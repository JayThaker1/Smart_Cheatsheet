{
 "cells": [
  {
   "cell_type": "markdown",
   "metadata": {},
   "source": [
    "# Mongo DB"
   ]
  },
  {
   "cell_type": "markdown",
   "metadata": {},
   "source": [
    "This is a form of database that is unstructured in nature and it is more fast and easier than MYSQL. It doesn't use SQL Queries for operation."
   ]
  },
  {
   "cell_type": "code",
   "execution_count": 1,
   "metadata": {},
   "outputs": [
    {
     "name": "stdout",
     "output_type": "stream",
     "text": [
      "Collecting pymongo\n",
      "  Downloading pymongo-3.11.4-cp38-cp38-win_amd64.whl (383 kB)\n",
      "Installing collected packages: pymongo\n",
      "Successfully installed pymongo-3.11.4\n"
     ]
    }
   ],
   "source": [
    "pip install pymongo"
   ]
  },
  {
   "cell_type": "code",
   "execution_count": 1,
   "metadata": {},
   "outputs": [],
   "source": [
    "import pymongo                  # Importing module to operate mongo db"
   ]
  },
  {
   "cell_type": "code",
   "execution_count": 2,
   "metadata": {},
   "outputs": [],
   "source": [
    "client= pymongo.MongoClient()   # Set client that connects to the local server"
   ]
  },
  {
   "cell_type": "code",
   "execution_count": 3,
   "metadata": {},
   "outputs": [],
   "source": [
    "mydb = client[\"MYDB\"]           # Creating a database"
   ]
  },
  {
   "cell_type": "code",
   "execution_count": 4,
   "metadata": {},
   "outputs": [],
   "source": [
    "mycol = mydb['People']          # Creating a collection (like a folder in database)"
   ]
  },
  {
   "cell_type": "code",
   "execution_count": 5,
   "metadata": {},
   "outputs": [
    {
     "data": {
      "text/plain": [
       "<pymongo.results.InsertOneResult at 0x2299d7932c0>"
      ]
     },
     "execution_count": 5,
     "metadata": {},
     "output_type": "execute_result"
    }
   ],
   "source": [
    "data = {'name': 'Jay' , 'Age': 36, 'Height': 5.9}       # Adding data in a variable in the form of dictionary {}\n",
    "mycol.insert_one(data)                                  # Inserting the data in the collection folder"
   ]
  },
  {
   "cell_type": "code",
   "execution_count": 7,
   "metadata": {},
   "outputs": [
    {
     "data": {
      "text/plain": [
       "<pymongo.results.InsertManyResult at 0x2299d7ade00>"
      ]
     },
     "execution_count": 7,
     "metadata": {},
     "output_type": "execute_result"
    }
   ],
   "source": [
    "datalist = [{'name': 'Avani' , 'Age': 32, 'Height': 5.6},{'name': 'Dhaivat' , 'Age': 35, 'Height': 5.9},{'name': 'Shruti' , 'Age': 33, 'Height': 5.4}]\n",
    "mycol.insert_many(datalist)"
   ]
  },
  {
   "cell_type": "code",
   "execution_count": 15,
   "metadata": {},
   "outputs": [
    {
     "name": "stdout",
     "output_type": "stream",
     "text": [
      "{'_id': ObjectId('60a12722efab4bfc4602de6d'), 'name': 'Jay', 'Age': 36, 'Height': 5.9}\n",
      "{'_id': ObjectId('60a12da1efab4bfc4602de6e'), 'name': 'Avani', 'Age': 32, 'Height': 5.6}\n",
      "{'_id': ObjectId('60a12da1efab4bfc4602de6f'), 'name': 'Dhaivat', 'Age': 35, 'Height': 5.9}\n",
      "{'_id': ObjectId('60a12da1efab4bfc4602de70'), 'name': 'Shruti', 'Age': 33, 'Height': 5.4}\n"
     ]
    }
   ],
   "source": [
    "mydbs = client['MYDB']                  # Selecting the database\n",
    "mycoll = mydbs ['People']               # Selecting the Collection\n",
    "\n",
    "for x in mycoll.find():                 # Running for loop to get all the data in the database.\n",
    "    print(x)                            # This can also be appended in an empty list using list.append(x) "
   ]
  },
  {
   "cell_type": "code",
   "execution_count": 10,
   "metadata": {},
   "outputs": [
    {
     "name": "stdout",
     "output_type": "stream",
     "text": [
      "['MYDB', 'admin', 'config', 'local']\n"
     ]
    }
   ],
   "source": [
    "print(client.list_database_names())     # This gives you the list of database available on server"
   ]
  },
  {
   "cell_type": "code",
   "execution_count": 11,
   "metadata": {},
   "outputs": [
    {
     "name": "stdout",
     "output_type": "stream",
     "text": [
      "['People']\n"
     ]
    }
   ],
   "source": [
    "mdb = client['MYDB']                 # adding database to a variable\n",
    "print(mdb.list_collection_names())   # This prints a list of all the collections available in the selected Database"
   ]
  },
  {
   "cell_type": "code",
   "execution_count": 21,
   "metadata": {},
   "outputs": [],
   "source": [
    "mydbs = client['MYDB']                  # Selecting the database\n",
    "mycoll = mydbs ['People']               # Selecting the Collection\n",
    "\n",
    "for x in mycoll.find({'height':{'$gte':5}}):                # Running for loop to get all the data in the database.\n",
    "    print(x)                                                # This can also be appended in an empty list using list.append(x) "
   ]
  },
  {
   "cell_type": "code",
   "execution_count": null,
   "metadata": {},
   "outputs": [],
   "source": []
  }
 ],
 "metadata": {
  "kernelspec": {
   "display_name": "Python 3",
   "language": "python",
   "name": "python3"
  },
  "language_info": {
   "codemirror_mode": {
    "name": "ipython",
    "version": 3
   },
   "file_extension": ".py",
   "mimetype": "text/x-python",
   "name": "python",
   "nbconvert_exporter": "python",
   "pygments_lexer": "ipython3",
   "version": "3.8.5"
  }
 },
 "nbformat": 4,
 "nbformat_minor": 4
}
